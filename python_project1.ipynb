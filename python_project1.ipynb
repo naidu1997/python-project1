{
  "nbformat": 4,
  "nbformat_minor": 0,
  "metadata": {
    "colab": {
      "provenance": [],
      "include_colab_link": true
    },
    "kernelspec": {
      "name": "python3",
      "display_name": "Python 3"
    },
    "language_info": {
      "name": "python"
    }
  },
  "cells": [
    {
      "cell_type": "markdown",
      "metadata": {
        "id": "view-in-github",
        "colab_type": "text"
      },
      "source": [
        "<a href=\"https://colab.research.google.com/github/naidu1997/python-project1/blob/main/python_project1.ipynb\" target=\"_parent\"><img src=\"https://colab.research.google.com/assets/colab-badge.svg\" alt=\"Open In Colab\"/></a>"
      ]
    },
    {
      "cell_type": "code",
      "source": [
        "#design of restaurant bill\n",
        "print(\"Restaurent Name : ABHIRUCHI RESTAURANT\")\n",
        "print(\"Adress : Tadepalligudem\")\n",
        "dict1={1:\"Mutton Biryani\",\n",
        "2:\"crab biryani\",\n",
        "3:\"Paneer biryani\",\n",
        "4:\"Veg Biryani\",\n",
        "5:\"chicken fry piece Biryani\",\n",
        "6:\"Prawns Biryani\",\n",
        "7:\"chicken biryani\",\n",
        "8:\"Water Bottle and coolDrink\"}\n",
        "prices={1:240,2:300,3:90,4:100,5:160,6:380,7:120,8:20}\n",
        "item=int(input(\"Enter your item number: \"))\n",
        "if item in dict1:\n",
        "    print(\"Item is available\")\n",
        "    quantity=int(input(\"Enter your quantity:\"))\n",
        "else:\n",
        "    print(\"Item not available\")\n",
        "tprice=0\n",
        "for i in dict1:\n",
        "\n",
        "    if item==i:\n",
        "        print(f\"Ordered item : {dict1[i]}\")\n",
        "        print(f\"Item price: {prices[i]}\")\n",
        "        print(f\"Total price is: {prices[i] * quantity}\")\n",
        "        gst=(prices[i]*10)/100\n",
        "        tprice+=prices[i] * quantity+gst\n",
        "        print(f\"Total price with GST: {tprice}\")\n",
        "        print(\"Do u want to add other item (type yes or no):\")\n",
        "        x=input(\"Enter y or n:\")\n",
        "        if 'y' in x:\n",
        "            item=int(input(\"Enter your item number: \"))\n",
        "            if item in dict1:\n",
        "                print(\"Item is available\")\n",
        "                quantity=int(input(\"Enter your quantity:\"))\n",
        "                if item==i:\n",
        "                    print(f\"Ordered item : {dict1[i]}\")\n",
        "                    print(f\"Item price: {prices[i]}\")\n",
        "                    print(f\"Total price is: {prices[i] * quantity}\")\n",
        "                    gst=(prices[i]*10)/100\n",
        "                    tprice+=prices[i] * quantity+gst\n",
        "                    print(f\"Total price with GST: {tprice}\")\n",
        "            else:\n",
        "                print(\"Item not available\")\n",
        "\n",
        "        elif 'n' in x:\n",
        "         print(\"--Thankyou for Ordering--\"),\n",
        "         print(\"Please Visit Again\"),\n",
        "         print  (\"Have A Nice Day\")"
      ],
      "metadata": {
        "id": "ztLauyjYTKjZ",
        "colab": {
          "base_uri": "https://localhost:8080/"
        },
        "outputId": "4840f50e-4ecf-49d0-ab9d-1c6efde626c6"
      },
      "execution_count": null,
      "outputs": [
        {
          "output_type": "stream",
          "name": "stdout",
          "text": [
            "Restaurent Name : ABHIRUCHI RESTAURANT\n",
            "Adress : Tadepalligudem\n",
            "Enter your item number: 3\n",
            "Item is available\n",
            "Enter your quantity:1\n",
            "Ordered item : Paneer biryani\n",
            "Item price: 90\n",
            "Total price is: 90\n",
            "Total price with GST: 99.0\n",
            "Do u want to add other item (type yes or no):\n",
            "Enter y or n:n\n",
            "--Thankyou for Ordering--\n",
            "Please Visit Again\n",
            "Have A Nice Day\n"
          ]
        }
      ]
    },
    {
      "cell_type": "code",
      "source": [
        "#design of rock,scissors,paper game\n",
        "import random as game\n",
        "\n",
        "start= [\"Rock\", \"scissors\", \"Paper\"]\n",
        "\n",
        "RPS = game.choice(start)\n",
        "\n",
        "gamer= False\n",
        "\n",
        "while not gamer:\n",
        "    user = input(\"Enter your choice (rock,paper, scissors): \").capitalize()\n",
        "\n",
        "    if user in start:\n",
        "        gamer = True\n",
        "    else:\n",
        "        print(\"Invalid choice. Please enter 'rock', 'paper', or 'scissors'.\")\n",
        "\n",
        "if user == RPS:\n",
        "    print(f\"Both chose {user}. It's a tie!\")\n",
        "elif (user == \"Rock\" and RPS == \"Scissors\") or (user == \"Paper\" and RPS == \"Rock\") or (user == \"Scissors\" and RPS == \"Paper\"):\n",
        "    print(f\"You win! {user} beats {RPS}.\")\n",
        "else:\n",
        "    print(f\"You lose! {RPS} beats {user}.\")"
      ],
      "metadata": {
        "colab": {
          "base_uri": "https://localhost:8080/"
        },
        "id": "hPi2laonbybC",
        "outputId": "8650bb5a-0642-42f0-df42-526661fadc02"
      },
      "execution_count": null,
      "outputs": [
        {
          "output_type": "stream",
          "name": "stdout",
          "text": [
            "Enter your choice (rock,scissors, paper): scissors\n",
            "Invalid choice. Please enter 'rock', 'paper', or 'scissors'.\n",
            "Enter your choice (rock,scissors, paper): paper\n",
            "You lose! scissors beats Paper.\n"
          ]
        }
      ]
    },
    {
      "cell_type": "code",
      "source": [
        "#creating a bank account\n",
        "print(\"BANK NAME: Vamsi national Bank\")\n",
        "print(\"Branch Name: Bhimavaram\")\n",
        "print(\"IFSC Code: SBIN098765\")\n",
        "amount = 100000\n",
        "\n",
        "def creation():\n",
        "    print(\"Account Creation\")\n",
        "    name = input(\"Enter your name: \")\n",
        "    phoneno = input(\"Enter your Mobile number (10 digits): \")\n",
        "    if len(phoneno) == 10:\n",
        "        print(phoneno)\n",
        "    else:\n",
        "        print(\"Enter correct number\")\n",
        "    print(f\"Balance amount: {amount}\")\n",
        "\n",
        "def credit():\n",
        "    print(\"Credit Amount\")\n",
        "    global amount\n",
        "    print(f\"Balance amount: {amount}\")\n",
        "    add_amount = int(input(\"Enter your amount: \"))\n",
        "    amount += add_amount\n",
        "    print(f\"Total amount: {amount}\")\n",
        "\n",
        "def debit():\n",
        "    print(\"Debit Amount\")\n",
        "    global amount\n",
        "    debit_amount = int(input(\"Enter your amount: \"))\n",
        "    if amount > debit_amount:\n",
        "        amount -= debit_amount\n",
        "        print(f\"Remaining balance: {amount}\")\n",
        "    else:\n",
        "        print(\"Insufficient balance\")\n",
        "\n",
        "# Test your functions\n",
        "creation()\n",
        "credit()\n",
        "debit()"
      ],
      "metadata": {
        "colab": {
          "base_uri": "https://localhost:8080/"
        },
        "id": "MvIi6LP4Pr5J",
        "outputId": "13cafd53-b964-4f20-9ed4-0e3350c3f432"
      },
      "execution_count": null,
      "outputs": [
        {
          "output_type": "stream",
          "name": "stdout",
          "text": [
            "BANK NAME: Vamsi national Bank\n",
            "Branch Name: Bhimavaram\n",
            "IFSC Code: SBIN098765\n",
            "Account Creation\n",
            "Enter your name: pavan\n",
            "Enter your Mobile number (10 digits): 1234567890\n",
            "1234567890\n",
            "Balance amount: 100000\n",
            "Credit Amount\n",
            "Balance amount: 100000\n",
            "Enter your amount: 6\n",
            "Total amount: 100006\n",
            "Debit Amount\n",
            "Enter your amount: 2\n",
            "Remaining balance: 100004\n"
          ]
        }
      ]
    }
  ]
}